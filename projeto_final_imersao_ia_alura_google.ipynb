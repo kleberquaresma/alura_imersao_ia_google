{
  "nbformat": 4,
  "nbformat_minor": 0,
  "metadata": {
    "colab": {
      "provenance": [],
      "authorship_tag": "ABX9TyN656y2pr0N+Rggj9XIeMHT",
      "include_colab_link": true
    },
    "kernelspec": {
      "name": "python3",
      "display_name": "Python 3"
    },
    "language_info": {
      "name": "python"
    }
  },
  "cells": [
    {
      "cell_type": "markdown",
      "metadata": {
        "id": "view-in-github",
        "colab_type": "text"
      },
      "source": [
        "<a href=\"https://colab.research.google.com/github/kleberquaresma/alura_imersao_ia_google/blob/main/projeto_final_imersao_ia_alura_google.ipynb\" target=\"_parent\"><img src=\"https://colab.research.google.com/assets/colab-badge.svg\" alt=\"Open In Colab\"/></a>"
      ]
    },
    {
      "cell_type": "markdown",
      "source": [
        "⚙\n",
        "\n",
        "**Instalando a biblioteca do Google para uso da IA Generativa (Gemini):**\n",
        "\n",
        "OBS.: *Para execução em um terminal local, fora do ambiente Colab, se faz necessário antes instalar o Python (https://www.python.org/downloads/) e certificar-se que o caminho da instalação dele está definido nas variáveis de ambiente do sistema operacional.*"
      ],
      "metadata": {
        "id": "cjX-0I36XTCr"
      }
    },
    {
      "cell_type": "code",
      "source": [
        "!pip install -q -U google-generativeai"
      ],
      "metadata": {
        "id": "5QUgmqhOXUb5"
      },
      "execution_count": 1,
      "outputs": []
    },
    {
      "cell_type": "markdown",
      "source": [
        "\n",
        "📥\n",
        "\n",
        "**Importando as bibliotecas necessárias à execução do código.**"
      ],
      "metadata": {
        "id": "HoG_XzKlXjQF"
      }
    },
    {
      "cell_type": "code",
      "source": [
        "#-------------------------------------------------------------------------\n",
        "# INÍCIO das Importações necessárias (bibliotecas, módulos, funções....)\n",
        "#-------------------------------------------------------------------------\n",
        "\n",
        "# Importação da biblioteca para melhor trabalhar com cainhos de arquivo.\n",
        "import pathlib\n",
        "\n",
        "# Importação da biblioteca para formatação de blocos de texto.\n",
        "import textwrap\n",
        "\n",
        "# Importação da biblioteca SDK para uso dos modelos de IA do Gemini.\n",
        "import google.generativeai as genai\n",
        "\n",
        "# Importação de função que possibilita exibir resultados de forma mais amigável (tabelas, imagens, etc).\n",
        "# Importação de classe que possibilita exibir textos utilizando a formação MarkDown.\n",
        "from IPython.display import display, Markdown\n",
        "\n",
        "# Importação de função que possibilita acessar dados, como a Chave da API, de forma segura.\n",
        "from google.colab import userdata\n",
        "\n",
        "#-------------------------------------------------------------------------\n",
        "# FIM das Importações necessárias (bibliotecas, módulos, funções....)\n",
        "#-------------------------------------------------------------------------\n",
        "\n",
        "# Função que permitirá formatar o texto em MarkDown realizando algumas tratativas.\n",
        "def to_markdown(text):\n",
        "  text = text.replace('•', '  *')\n",
        "  return Markdown(textwrap.indent(text, '> ', predicate=lambda _: True))"
      ],
      "metadata": {
        "id": "gPTc0RGJivMJ"
      },
      "execution_count": 12,
      "outputs": []
    },
    {
      "cell_type": "markdown",
      "source": [
        "🔑\n",
        "\n",
        "**Adicionando a chave da API que será utilizada para realização da integração com o ambiente do Gemini da Google:**\n",
        "\n",
        "Obs.: *Necessário antes inserir a chave da API, previamente criada através do Google AI Studio, no gerenciador de chaves do Colab. Caso contrário inserir a chave em substituição ao texto 'GOOGLE_API_KEY'.*"
      ],
      "metadata": {
        "id": "3OzArHARn6Y-"
      }
    },
    {
      "cell_type": "code",
      "source": [
        "# Or use `os.getenv('GOOGLE_API_KEY')` to fetch an environment variable.\n",
        "GOOGLE_API_KEY=userdata.get('GOOGLE_API_KEY')\n",
        "\n",
        "genai.configure(api_key=GOOGLE_API_KEY)"
      ],
      "metadata": {
        "id": "qEa0qAoaoOtq"
      },
      "execution_count": 5,
      "outputs": []
    },
    {
      "cell_type": "markdown",
      "source": [
        "♊\n",
        "\n",
        "**Definindo as variáveis do Gemini:**"
      ],
      "metadata": {
        "id": "EIp_0N7xsWfP"
      }
    },
    {
      "cell_type": "code",
      "source": [
        "parametros_gemini = {\n",
        "    \"candidate_count\": 1,\n",
        "    \"temperature\": 1,\n",
        "    \"top_p\": 1,\n",
        "    \"top_k\": 1,\n",
        "}\n",
        "\n",
        "from google.generativeai.types import HarmCategory, HarmBlockThreshold\n",
        "\n",
        "seguranca_gemini = {\n",
        "    'HARASSMENT': 'block_none',\n",
        "    'SEXUAL': 'block_none',\n",
        "    'DANGEROUS': 'block_none',\n",
        "    'HATE': 'block_none',\n",
        "}"
      ],
      "metadata": {
        "id": "MzLNmmuYsjGc"
      },
      "execution_count": 27,
      "outputs": []
    },
    {
      "cell_type": "markdown",
      "source": [
        "♊\n",
        "\n",
        "**Definindo o modelo de IA do Gemini a ser utilizado:**\n",
        "\n",
        "OBS.: *Para interação multimodal (texto, imagens e vídeo) utilizar um dos modelos \"VISIO\".*"
      ],
      "metadata": {
        "id": "gGLOVmEdoew0"
      }
    },
    {
      "cell_type": "code",
      "source": [
        "# Lista os modelos disponíveis:\n",
        "for m in genai.list_models():\n",
        "  if 'generateContent' in m.supported_generation_methods:\n",
        "    print(m.name)\n",
        "\n",
        "# Define o modelo a ser utilizado:\n",
        "model = genai.GenerativeModel('gemini-pro-vision',\n",
        "                              safety_settings=seguranca_gemini,\n",
        "                              generation_config=parametros_gemini)\n",
        "\n",
        "modelo_escolhido = Markdown('**Modelo Escolhido:**')\n",
        "display(modelo_escolhido, model.model_name)"
      ],
      "metadata": {
        "colab": {
          "base_uri": "https://localhost:8080/",
          "height": 186
        },
        "id": "-m2R1hWWpTHm",
        "outputId": "eb078715-32ce-42a4-8ca2-29c0899d66ed"
      },
      "execution_count": 28,
      "outputs": [
        {
          "output_type": "stream",
          "name": "stdout",
          "text": [
            "models/gemini-1.0-pro\n",
            "models/gemini-1.0-pro-001\n",
            "models/gemini-1.0-pro-latest\n",
            "models/gemini-1.0-pro-vision-latest\n",
            "models/gemini-1.5-pro-latest\n",
            "models/gemini-pro\n",
            "models/gemini-pro-vision\n"
          ]
        },
        {
          "output_type": "display_data",
          "data": {
            "text/plain": [
              "<IPython.core.display.Markdown object>"
            ],
            "text/markdown": "**Modelo Escolhido:**"
          },
          "metadata": {}
        },
        {
          "output_type": "display_data",
          "data": {
            "text/plain": [
              "'models/gemini-pro-vision'"
            ],
            "application/vnd.google.colaboratory.intrinsic+json": {
              "type": "string"
            }
          },
          "metadata": {}
        }
      ]
    }
  ]
}