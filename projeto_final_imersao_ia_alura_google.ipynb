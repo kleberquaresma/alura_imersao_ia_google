{
  "nbformat": 4,
  "nbformat_minor": 0,
  "metadata": {
    "colab": {
      "provenance": [],
      "toc_visible": true,
      "authorship_tag": "ABX9TyNnm4eWTjjGmVSSPB96Gw6d",
      "include_colab_link": true
    },
    "kernelspec": {
      "name": "python3",
      "display_name": "Python 3"
    },
    "language_info": {
      "name": "python"
    }
  },
  "cells": [
    {
      "cell_type": "markdown",
      "metadata": {
        "id": "view-in-github",
        "colab_type": "text"
      },
      "source": [
        "<a href=\"https://colab.research.google.com/github/kleberquaresma/alura_imersao_ia_google/blob/main/projeto_final_imersao_ia_alura_google.ipynb\" target=\"_parent\"><img src=\"https://colab.research.google.com/assets/colab-badge.svg\" alt=\"Open In Colab\"/></a>"
      ]
    },
    {
      "cell_type": "markdown",
      "source": [
        "⚙\n",
        "\n",
        "**Instalando a biblioteca do Google para uso da IA Generativa (Gemini):**\n",
        "\n",
        "OBS.: *Para execução em um terminal local, fora do ambiente Colab, se faz necessário antes instalar o Python (https://www.python.org/downloads/) e certificar-se que o caminho da instalação dele está definido nas variáveis de ambiente do sistema operacional.*"
      ],
      "metadata": {
        "id": "cjX-0I36XTCr"
      }
    },
    {
      "cell_type": "code",
      "source": [
        "!pip install -q -U google-generativeai"
      ],
      "metadata": {
        "id": "5QUgmqhOXUb5"
      },
      "execution_count": 3,
      "outputs": []
    },
    {
      "cell_type": "markdown",
      "source": [
        "\n",
        "📥\n",
        "\n",
        "**Importando as bibliotecas necessárias à execução do código.**"
      ],
      "metadata": {
        "id": "HoG_XzKlXjQF"
      }
    },
    {
      "cell_type": "code",
      "source": [
        "#-------------------------------------------------------------------------\n",
        "# INÍCIO das Importações necessárias (bibliotecas, módulos, funções....)\n",
        "#-------------------------------------------------------------------------\n",
        "\n",
        "# Importação da biblioteca para melhor trabalhar com caminhos de arquivo.\n",
        "import pathlib\n",
        "\n",
        "# Importação da biblioteca para formatação de blocos de texto.\n",
        "import textwrap\n",
        "\n",
        "# Importação da biblioteca SDK para uso dos modelos de IA do Gemini.\n",
        "import google.generativeai as genai\n",
        "\n",
        "import pandas as pd\n",
        "\n",
        "import numpy as np\n",
        "\n",
        "# Importação de função que possibilita exibir resultados de forma mais amigável (tabelas, imagens, etc).\n",
        "# Importação de classe que possibilita exibir textos utilizando a formação MarkDown.\n",
        "from IPython.display import display, Markdown\n",
        "\n",
        "# Importação de função que possibilita acessar dados, como a Chave da API, de forma segura.\n",
        "from google.colab import userdata\n",
        "\n",
        "\n",
        "#-------------------------------------------------------------------------\n",
        "# FIM das Importações necessárias (bibliotecas, módulos, funções....)\n",
        "#-------------------------------------------------------------------------\n",
        "\n",
        "# Função que permitirá formatar o texto em MarkDown realizando algumas tratativas.\n",
        "def to_markdown(text):\n",
        "  text = text.replace('•', '  *')\n",
        "  return Markdown(textwrap.indent(text, '> ', predicate=lambda _: True))"
      ],
      "metadata": {
        "id": "gPTc0RGJivMJ"
      },
      "execution_count": 4,
      "outputs": []
    },
    {
      "cell_type": "markdown",
      "source": [
        "🔑\n",
        "\n",
        "**Adicionando a chave da API que será utilizada para realização da integração com o ambiente do Gemini da Google:**\n",
        "\n",
        "Obs.: *Necessário antes inserir a chave da API, previamente criada através do Google AI Studio, no gerenciador de chaves do Colab. Caso contrário inserir a chave em substituição ao texto 'GOOGLE_API_KEY'.*"
      ],
      "metadata": {
        "id": "3OzArHARn6Y-"
      }
    },
    {
      "cell_type": "code",
      "source": [
        "# Or use `os.getenv('GOOGLE_API_KEY')` to fetch an environment variable.\n",
        "\n",
        "# genai.configure(api_key=os.environ[\"API_KEY\"]) # para capturar a chave da API à partir da variável de ambiente (API_KEY) do SO.\n",
        "\n",
        "GOOGLE_API_KEY=userdata.get('GOOGLE_API_KEY')\n",
        "\n",
        "genai.configure(api_key=GOOGLE_API_KEY)"
      ],
      "metadata": {
        "id": "qEa0qAoaoOtq"
      },
      "execution_count": 6,
      "outputs": []
    },
    {
      "cell_type": "markdown",
      "source": [
        "♊\n",
        "\n",
        "**Definindo as variáveis do Gemini:**"
      ],
      "metadata": {
        "id": "EIp_0N7xsWfP"
      }
    },
    {
      "cell_type": "code",
      "source": [
        "parametros_gemini = {\n",
        "    \"candidate_count\": 1,\n",
        "    \"temperature\": 0,\n",
        "    \"top_p\": 0,\n",
        "    \"top_k\": 0,\n",
        "}\n",
        "\n",
        "from google.generativeai.types import HarmCategory, HarmBlockThreshold\n",
        "\n",
        "seguranca_gemini = {\n",
        "    'HARASSMENT': 'block_none',\n",
        "    'SEXUAL': 'block_none',\n",
        "    'DANGEROUS': 'block_none',\n",
        "    'HATE': 'block_none',\n",
        "}"
      ],
      "metadata": {
        "id": "MzLNmmuYsjGc"
      },
      "execution_count": 28,
      "outputs": []
    },
    {
      "cell_type": "markdown",
      "source": [
        "♊\n",
        "\n",
        "**Definindo o modelo de IA do Gemini a ser utilizado:**\n",
        "\n",
        "OBS.1: *Para interação multimodal (texto, imagens e vídeo) utilizar um dos modelos \"VISIO\".*\n",
        "\n",
        "OBS.2: *Para lista de modelos de interação com conteúdo exclusivo utilizar \"Embeddings\" (embedContent)*"
      ],
      "metadata": {
        "id": "gGLOVmEdoew0"
      }
    },
    {
      "cell_type": "code",
      "source": [
        "# Lista os modelos disponíveis:\n",
        "for m in genai.list_models():\n",
        "  if 'generateContent' in m.supported_generation_methods:\n",
        "    print(m.name)\n",
        "\n",
        "# Define o modelo a ser utilizado:\n",
        "modelo = genai.GenerativeModel('gemini-pro',\n",
        "                              safety_settings=seguranca_gemini,\n",
        "                              generation_config=parametros_gemini)\n",
        "\n",
        "modelo_escolhido = Markdown('**Modelo Escolhido:**')\n",
        "display(modelo_escolhido, modelo.model_name)"
      ],
      "metadata": {
        "colab": {
          "base_uri": "https://localhost:8080/",
          "height": 186
        },
        "id": "-m2R1hWWpTHm",
        "outputId": "143c10c9-965a-4e06-a061-178096a1515c"
      },
      "execution_count": 36,
      "outputs": [
        {
          "output_type": "stream",
          "name": "stdout",
          "text": [
            "models/gemini-1.0-pro\n",
            "models/gemini-1.0-pro-001\n",
            "models/gemini-1.0-pro-latest\n",
            "models/gemini-1.0-pro-vision-latest\n",
            "models/gemini-1.5-pro-latest\n",
            "models/gemini-pro\n",
            "models/gemini-pro-vision\n"
          ]
        },
        {
          "output_type": "display_data",
          "data": {
            "text/plain": [
              "<IPython.core.display.Markdown object>"
            ],
            "text/markdown": "**Modelo Escolhido:**"
          },
          "metadata": {}
        },
        {
          "output_type": "display_data",
          "data": {
            "text/plain": [
              "'models/gemini-pro'"
            ],
            "application/vnd.google.colaboratory.intrinsic+json": {
              "type": "string"
            }
          },
          "metadata": {}
        }
      ]
    },
    {
      "cell_type": "markdown",
      "source": [
        "Interação"
      ],
      "metadata": {
        "id": "gZqdNum1kjr4"
      }
    },
    {
      "cell_type": "code",
      "source": [],
      "metadata": {
        "id": "WboKJZcqlERG"
      },
      "execution_count": null,
      "outputs": []
    },
    {
      "cell_type": "code",
      "source": [
        "df = pd.read_excel('guias.xlsx')\n",
        "df"
      ],
      "metadata": {
        "colab": {
          "base_uri": "https://localhost:8080/",
          "height": 615
        },
        "id": "WEDCZejskliU",
        "outputId": "4b5aca72-ad5d-4210-bfc2-39c183e3c0ec"
      },
      "execution_count": 33,
      "outputs": [
        {
          "output_type": "execute_result",
          "data": {
            "text/plain": [
              "     TGS_NUMERO_GUIA  TGS_NUM_ATENDIMENTO TGS_DATA_EMISSAO_GUIA  \\\n",
              "0              67107                  NaN   2017-08-21 16:10:52   \n",
              "1              67110                  NaN   2017-08-21 17:08:38   \n",
              "2              67114             233926.0   2017-08-25 11:37:57   \n",
              "3              67180                  NaN   2018-08-27 17:27:06   \n",
              "4              67181                  NaN   2018-08-29 10:22:50   \n",
              "..               ...                  ...                   ...   \n",
              "532            69932                  NaN   2024-04-16 11:25:22   \n",
              "533            69933                  NaN                 45398   \n",
              "534            69935                  NaN                 45399   \n",
              "535            69970                  NaN   2024-05-02 11:52:49   \n",
              "536            69934             234872.0   2024-04-16 11:31:17   \n",
              "\n",
              "                                  STATUS TGS_DATA_CANCELAMENTO  \\\n",
              "0                                 Negado                   NaT   \n",
              "1                             Autorizado                   NaT   \n",
              "2    Aguardando Liberação para Pagamento                   NaT   \n",
              "3                             Autorizado                   NaT   \n",
              "4                             Autorizado                   NaT   \n",
              "..                                   ...                   ...   \n",
              "532                           Autorizado                   NaT   \n",
              "533              Encerrado Sem Pagamento                   NaT   \n",
              "534              Encerrado Sem Pagamento                   NaT   \n",
              "535                           Autorizado                   NaT   \n",
              "536                   Pagamento Efetuado                   NaT   \n",
              "\n",
              "                TIPO_GUIA  \n",
              "0     Solicitação SP/SADT  \n",
              "1     Solicitação SP/SADT  \n",
              "2     Faturamento SP/SADT  \n",
              "3     Solicitação SP/SADT  \n",
              "4     Solicitação SP/SADT  \n",
              "..                    ...  \n",
              "532   Solicitação SP/SADT  \n",
              "533  Honorario Individual  \n",
              "534  Honorario Individual  \n",
              "535   Solicitação SP/SADT  \n",
              "536   Faturamento SP/SADT  \n",
              "\n",
              "[537 rows x 6 columns]"
            ],
            "text/html": [
              "\n",
              "  <div id=\"df-44a102c5-dc6a-4431-8f0b-1c0698d3ee89\" class=\"colab-df-container\">\n",
              "    <div>\n",
              "<style scoped>\n",
              "    .dataframe tbody tr th:only-of-type {\n",
              "        vertical-align: middle;\n",
              "    }\n",
              "\n",
              "    .dataframe tbody tr th {\n",
              "        vertical-align: top;\n",
              "    }\n",
              "\n",
              "    .dataframe thead th {\n",
              "        text-align: right;\n",
              "    }\n",
              "</style>\n",
              "<table border=\"1\" class=\"dataframe\">\n",
              "  <thead>\n",
              "    <tr style=\"text-align: right;\">\n",
              "      <th></th>\n",
              "      <th>TGS_NUMERO_GUIA</th>\n",
              "      <th>TGS_NUM_ATENDIMENTO</th>\n",
              "      <th>TGS_DATA_EMISSAO_GUIA</th>\n",
              "      <th>STATUS</th>\n",
              "      <th>TGS_DATA_CANCELAMENTO</th>\n",
              "      <th>TIPO_GUIA</th>\n",
              "    </tr>\n",
              "  </thead>\n",
              "  <tbody>\n",
              "    <tr>\n",
              "      <th>0</th>\n",
              "      <td>67107</td>\n",
              "      <td>NaN</td>\n",
              "      <td>2017-08-21 16:10:52</td>\n",
              "      <td>Negado</td>\n",
              "      <td>NaT</td>\n",
              "      <td>Solicitação SP/SADT</td>\n",
              "    </tr>\n",
              "    <tr>\n",
              "      <th>1</th>\n",
              "      <td>67110</td>\n",
              "      <td>NaN</td>\n",
              "      <td>2017-08-21 17:08:38</td>\n",
              "      <td>Autorizado</td>\n",
              "      <td>NaT</td>\n",
              "      <td>Solicitação SP/SADT</td>\n",
              "    </tr>\n",
              "    <tr>\n",
              "      <th>2</th>\n",
              "      <td>67114</td>\n",
              "      <td>233926.0</td>\n",
              "      <td>2017-08-25 11:37:57</td>\n",
              "      <td>Aguardando Liberação para Pagamento</td>\n",
              "      <td>NaT</td>\n",
              "      <td>Faturamento SP/SADT</td>\n",
              "    </tr>\n",
              "    <tr>\n",
              "      <th>3</th>\n",
              "      <td>67180</td>\n",
              "      <td>NaN</td>\n",
              "      <td>2018-08-27 17:27:06</td>\n",
              "      <td>Autorizado</td>\n",
              "      <td>NaT</td>\n",
              "      <td>Solicitação SP/SADT</td>\n",
              "    </tr>\n",
              "    <tr>\n",
              "      <th>4</th>\n",
              "      <td>67181</td>\n",
              "      <td>NaN</td>\n",
              "      <td>2018-08-29 10:22:50</td>\n",
              "      <td>Autorizado</td>\n",
              "      <td>NaT</td>\n",
              "      <td>Solicitação SP/SADT</td>\n",
              "    </tr>\n",
              "    <tr>\n",
              "      <th>...</th>\n",
              "      <td>...</td>\n",
              "      <td>...</td>\n",
              "      <td>...</td>\n",
              "      <td>...</td>\n",
              "      <td>...</td>\n",
              "      <td>...</td>\n",
              "    </tr>\n",
              "    <tr>\n",
              "      <th>532</th>\n",
              "      <td>69932</td>\n",
              "      <td>NaN</td>\n",
              "      <td>2024-04-16 11:25:22</td>\n",
              "      <td>Autorizado</td>\n",
              "      <td>NaT</td>\n",
              "      <td>Solicitação SP/SADT</td>\n",
              "    </tr>\n",
              "    <tr>\n",
              "      <th>533</th>\n",
              "      <td>69933</td>\n",
              "      <td>NaN</td>\n",
              "      <td>45398</td>\n",
              "      <td>Encerrado Sem Pagamento</td>\n",
              "      <td>NaT</td>\n",
              "      <td>Honorario Individual</td>\n",
              "    </tr>\n",
              "    <tr>\n",
              "      <th>534</th>\n",
              "      <td>69935</td>\n",
              "      <td>NaN</td>\n",
              "      <td>45399</td>\n",
              "      <td>Encerrado Sem Pagamento</td>\n",
              "      <td>NaT</td>\n",
              "      <td>Honorario Individual</td>\n",
              "    </tr>\n",
              "    <tr>\n",
              "      <th>535</th>\n",
              "      <td>69970</td>\n",
              "      <td>NaN</td>\n",
              "      <td>2024-05-02 11:52:49</td>\n",
              "      <td>Autorizado</td>\n",
              "      <td>NaT</td>\n",
              "      <td>Solicitação SP/SADT</td>\n",
              "    </tr>\n",
              "    <tr>\n",
              "      <th>536</th>\n",
              "      <td>69934</td>\n",
              "      <td>234872.0</td>\n",
              "      <td>2024-04-16 11:31:17</td>\n",
              "      <td>Pagamento Efetuado</td>\n",
              "      <td>NaT</td>\n",
              "      <td>Faturamento SP/SADT</td>\n",
              "    </tr>\n",
              "  </tbody>\n",
              "</table>\n",
              "<p>537 rows × 6 columns</p>\n",
              "</div>\n",
              "    <div class=\"colab-df-buttons\">\n",
              "\n",
              "  <div class=\"colab-df-container\">\n",
              "    <button class=\"colab-df-convert\" onclick=\"convertToInteractive('df-44a102c5-dc6a-4431-8f0b-1c0698d3ee89')\"\n",
              "            title=\"Convert this dataframe to an interactive table.\"\n",
              "            style=\"display:none;\">\n",
              "\n",
              "  <svg xmlns=\"http://www.w3.org/2000/svg\" height=\"24px\" viewBox=\"0 -960 960 960\">\n",
              "    <path d=\"M120-120v-720h720v720H120Zm60-500h600v-160H180v160Zm220 220h160v-160H400v160Zm0 220h160v-160H400v160ZM180-400h160v-160H180v160Zm440 0h160v-160H620v160ZM180-180h160v-160H180v160Zm440 0h160v-160H620v160Z\"/>\n",
              "  </svg>\n",
              "    </button>\n",
              "\n",
              "  <style>\n",
              "    .colab-df-container {\n",
              "      display:flex;\n",
              "      gap: 12px;\n",
              "    }\n",
              "\n",
              "    .colab-df-convert {\n",
              "      background-color: #E8F0FE;\n",
              "      border: none;\n",
              "      border-radius: 50%;\n",
              "      cursor: pointer;\n",
              "      display: none;\n",
              "      fill: #1967D2;\n",
              "      height: 32px;\n",
              "      padding: 0 0 0 0;\n",
              "      width: 32px;\n",
              "    }\n",
              "\n",
              "    .colab-df-convert:hover {\n",
              "      background-color: #E2EBFA;\n",
              "      box-shadow: 0px 1px 2px rgba(60, 64, 67, 0.3), 0px 1px 3px 1px rgba(60, 64, 67, 0.15);\n",
              "      fill: #174EA6;\n",
              "    }\n",
              "\n",
              "    .colab-df-buttons div {\n",
              "      margin-bottom: 4px;\n",
              "    }\n",
              "\n",
              "    [theme=dark] .colab-df-convert {\n",
              "      background-color: #3B4455;\n",
              "      fill: #D2E3FC;\n",
              "    }\n",
              "\n",
              "    [theme=dark] .colab-df-convert:hover {\n",
              "      background-color: #434B5C;\n",
              "      box-shadow: 0px 1px 3px 1px rgba(0, 0, 0, 0.15);\n",
              "      filter: drop-shadow(0px 1px 2px rgba(0, 0, 0, 0.3));\n",
              "      fill: #FFFFFF;\n",
              "    }\n",
              "  </style>\n",
              "\n",
              "    <script>\n",
              "      const buttonEl =\n",
              "        document.querySelector('#df-44a102c5-dc6a-4431-8f0b-1c0698d3ee89 button.colab-df-convert');\n",
              "      buttonEl.style.display =\n",
              "        google.colab.kernel.accessAllowed ? 'block' : 'none';\n",
              "\n",
              "      async function convertToInteractive(key) {\n",
              "        const element = document.querySelector('#df-44a102c5-dc6a-4431-8f0b-1c0698d3ee89');\n",
              "        const dataTable =\n",
              "          await google.colab.kernel.invokeFunction('convertToInteractive',\n",
              "                                                    [key], {});\n",
              "        if (!dataTable) return;\n",
              "\n",
              "        const docLinkHtml = 'Like what you see? Visit the ' +\n",
              "          '<a target=\"_blank\" href=https://colab.research.google.com/notebooks/data_table.ipynb>data table notebook</a>'\n",
              "          + ' to learn more about interactive tables.';\n",
              "        element.innerHTML = '';\n",
              "        dataTable['output_type'] = 'display_data';\n",
              "        await google.colab.output.renderOutput(dataTable, element);\n",
              "        const docLink = document.createElement('div');\n",
              "        docLink.innerHTML = docLinkHtml;\n",
              "        element.appendChild(docLink);\n",
              "      }\n",
              "    </script>\n",
              "  </div>\n",
              "\n",
              "\n",
              "<div id=\"df-528c80ab-6e82-4727-8457-4ca59aa1d175\">\n",
              "  <button class=\"colab-df-quickchart\" onclick=\"quickchart('df-528c80ab-6e82-4727-8457-4ca59aa1d175')\"\n",
              "            title=\"Suggest charts\"\n",
              "            style=\"display:none;\">\n",
              "\n",
              "<svg xmlns=\"http://www.w3.org/2000/svg\" height=\"24px\"viewBox=\"0 0 24 24\"\n",
              "     width=\"24px\">\n",
              "    <g>\n",
              "        <path d=\"M19 3H5c-1.1 0-2 .9-2 2v14c0 1.1.9 2 2 2h14c1.1 0 2-.9 2-2V5c0-1.1-.9-2-2-2zM9 17H7v-7h2v7zm4 0h-2V7h2v10zm4 0h-2v-4h2v4z\"/>\n",
              "    </g>\n",
              "</svg>\n",
              "  </button>\n",
              "\n",
              "<style>\n",
              "  .colab-df-quickchart {\n",
              "      --bg-color: #E8F0FE;\n",
              "      --fill-color: #1967D2;\n",
              "      --hover-bg-color: #E2EBFA;\n",
              "      --hover-fill-color: #174EA6;\n",
              "      --disabled-fill-color: #AAA;\n",
              "      --disabled-bg-color: #DDD;\n",
              "  }\n",
              "\n",
              "  [theme=dark] .colab-df-quickchart {\n",
              "      --bg-color: #3B4455;\n",
              "      --fill-color: #D2E3FC;\n",
              "      --hover-bg-color: #434B5C;\n",
              "      --hover-fill-color: #FFFFFF;\n",
              "      --disabled-bg-color: #3B4455;\n",
              "      --disabled-fill-color: #666;\n",
              "  }\n",
              "\n",
              "  .colab-df-quickchart {\n",
              "    background-color: var(--bg-color);\n",
              "    border: none;\n",
              "    border-radius: 50%;\n",
              "    cursor: pointer;\n",
              "    display: none;\n",
              "    fill: var(--fill-color);\n",
              "    height: 32px;\n",
              "    padding: 0;\n",
              "    width: 32px;\n",
              "  }\n",
              "\n",
              "  .colab-df-quickchart:hover {\n",
              "    background-color: var(--hover-bg-color);\n",
              "    box-shadow: 0 1px 2px rgba(60, 64, 67, 0.3), 0 1px 3px 1px rgba(60, 64, 67, 0.15);\n",
              "    fill: var(--button-hover-fill-color);\n",
              "  }\n",
              "\n",
              "  .colab-df-quickchart-complete:disabled,\n",
              "  .colab-df-quickchart-complete:disabled:hover {\n",
              "    background-color: var(--disabled-bg-color);\n",
              "    fill: var(--disabled-fill-color);\n",
              "    box-shadow: none;\n",
              "  }\n",
              "\n",
              "  .colab-df-spinner {\n",
              "    border: 2px solid var(--fill-color);\n",
              "    border-color: transparent;\n",
              "    border-bottom-color: var(--fill-color);\n",
              "    animation:\n",
              "      spin 1s steps(1) infinite;\n",
              "  }\n",
              "\n",
              "  @keyframes spin {\n",
              "    0% {\n",
              "      border-color: transparent;\n",
              "      border-bottom-color: var(--fill-color);\n",
              "      border-left-color: var(--fill-color);\n",
              "    }\n",
              "    20% {\n",
              "      border-color: transparent;\n",
              "      border-left-color: var(--fill-color);\n",
              "      border-top-color: var(--fill-color);\n",
              "    }\n",
              "    30% {\n",
              "      border-color: transparent;\n",
              "      border-left-color: var(--fill-color);\n",
              "      border-top-color: var(--fill-color);\n",
              "      border-right-color: var(--fill-color);\n",
              "    }\n",
              "    40% {\n",
              "      border-color: transparent;\n",
              "      border-right-color: var(--fill-color);\n",
              "      border-top-color: var(--fill-color);\n",
              "    }\n",
              "    60% {\n",
              "      border-color: transparent;\n",
              "      border-right-color: var(--fill-color);\n",
              "    }\n",
              "    80% {\n",
              "      border-color: transparent;\n",
              "      border-right-color: var(--fill-color);\n",
              "      border-bottom-color: var(--fill-color);\n",
              "    }\n",
              "    90% {\n",
              "      border-color: transparent;\n",
              "      border-bottom-color: var(--fill-color);\n",
              "    }\n",
              "  }\n",
              "</style>\n",
              "\n",
              "  <script>\n",
              "    async function quickchart(key) {\n",
              "      const quickchartButtonEl =\n",
              "        document.querySelector('#' + key + ' button');\n",
              "      quickchartButtonEl.disabled = true;  // To prevent multiple clicks.\n",
              "      quickchartButtonEl.classList.add('colab-df-spinner');\n",
              "      try {\n",
              "        const charts = await google.colab.kernel.invokeFunction(\n",
              "            'suggestCharts', [key], {});\n",
              "      } catch (error) {\n",
              "        console.error('Error during call to suggestCharts:', error);\n",
              "      }\n",
              "      quickchartButtonEl.classList.remove('colab-df-spinner');\n",
              "      quickchartButtonEl.classList.add('colab-df-quickchart-complete');\n",
              "    }\n",
              "    (() => {\n",
              "      let quickchartButtonEl =\n",
              "        document.querySelector('#df-528c80ab-6e82-4727-8457-4ca59aa1d175 button');\n",
              "      quickchartButtonEl.style.display =\n",
              "        google.colab.kernel.accessAllowed ? 'block' : 'none';\n",
              "    })();\n",
              "  </script>\n",
              "</div>\n",
              "\n",
              "  <div id=\"id_d72e7549-da40-42ea-8d45-3782c61f8e8e\">\n",
              "    <style>\n",
              "      .colab-df-generate {\n",
              "        background-color: #E8F0FE;\n",
              "        border: none;\n",
              "        border-radius: 50%;\n",
              "        cursor: pointer;\n",
              "        display: none;\n",
              "        fill: #1967D2;\n",
              "        height: 32px;\n",
              "        padding: 0 0 0 0;\n",
              "        width: 32px;\n",
              "      }\n",
              "\n",
              "      .colab-df-generate:hover {\n",
              "        background-color: #E2EBFA;\n",
              "        box-shadow: 0px 1px 2px rgba(60, 64, 67, 0.3), 0px 1px 3px 1px rgba(60, 64, 67, 0.15);\n",
              "        fill: #174EA6;\n",
              "      }\n",
              "\n",
              "      [theme=dark] .colab-df-generate {\n",
              "        background-color: #3B4455;\n",
              "        fill: #D2E3FC;\n",
              "      }\n",
              "\n",
              "      [theme=dark] .colab-df-generate:hover {\n",
              "        background-color: #434B5C;\n",
              "        box-shadow: 0px 1px 3px 1px rgba(0, 0, 0, 0.15);\n",
              "        filter: drop-shadow(0px 1px 2px rgba(0, 0, 0, 0.3));\n",
              "        fill: #FFFFFF;\n",
              "      }\n",
              "    </style>\n",
              "    <button class=\"colab-df-generate\" onclick=\"generateWithVariable('df')\"\n",
              "            title=\"Generate code using this dataframe.\"\n",
              "            style=\"display:none;\">\n",
              "\n",
              "  <svg xmlns=\"http://www.w3.org/2000/svg\" height=\"24px\"viewBox=\"0 0 24 24\"\n",
              "       width=\"24px\">\n",
              "    <path d=\"M7,19H8.4L18.45,9,17,7.55,7,17.6ZM5,21V16.75L18.45,3.32a2,2,0,0,1,2.83,0l1.4,1.43a1.91,1.91,0,0,1,.58,1.4,1.91,1.91,0,0,1-.58,1.4L9.25,21ZM18.45,9,17,7.55Zm-12,3A5.31,5.31,0,0,0,4.9,8.1,5.31,5.31,0,0,0,1,6.5,5.31,5.31,0,0,0,4.9,4.9,5.31,5.31,0,0,0,6.5,1,5.31,5.31,0,0,0,8.1,4.9,5.31,5.31,0,0,0,12,6.5,5.46,5.46,0,0,0,6.5,12Z\"/>\n",
              "  </svg>\n",
              "    </button>\n",
              "    <script>\n",
              "      (() => {\n",
              "      const buttonEl =\n",
              "        document.querySelector('#id_d72e7549-da40-42ea-8d45-3782c61f8e8e button.colab-df-generate');\n",
              "      buttonEl.style.display =\n",
              "        google.colab.kernel.accessAllowed ? 'block' : 'none';\n",
              "\n",
              "      buttonEl.onclick = () => {\n",
              "        google.colab.notebook.generateWithVariable('df');\n",
              "      }\n",
              "      })();\n",
              "    </script>\n",
              "  </div>\n",
              "\n",
              "    </div>\n",
              "  </div>\n"
            ],
            "application/vnd.google.colaboratory.intrinsic+json": {
              "type": "dataframe",
              "variable_name": "df",
              "summary": "{\n  \"name\": \"df\",\n  \"rows\": 537,\n  \"fields\": [\n    {\n      \"column\": \"TGS_NUMERO_GUIA\",\n      \"properties\": {\n        \"dtype\": \"number\",\n        \"std\": 782,\n        \"min\": 67080,\n        \"max\": 69970,\n        \"num_unique_values\": 537,\n        \"samples\": [\n          69826,\n          67629,\n          68362\n        ],\n        \"semantic_type\": \"\",\n        \"description\": \"\"\n      }\n    },\n    {\n      \"column\": \"TGS_NUM_ATENDIMENTO\",\n      \"properties\": {\n        \"dtype\": \"number\",\n        \"std\": 191.8416674033894,\n        \"min\": 233920.0,\n        \"max\": 234872.0,\n        \"num_unique_values\": 67,\n        \"samples\": [\n          234726.0,\n          234636.0,\n          234621.0\n        ],\n        \"semantic_type\": \"\",\n        \"description\": \"\"\n      }\n    },\n    {\n      \"column\": \"TGS_DATA_EMISSAO_GUIA\",\n      \"properties\": {\n        \"dtype\": \"date\",\n        \"min\": \"1970-01-01 00:00:00.000043378\",\n        \"max\": \"2024-05-02 11:52:49\",\n        \"num_unique_values\": 496,\n        \"samples\": [\n          \"2024-03-06 09:55:08\",\n          \"2020-10-16 14:38:16\",\n          \"2022-07-29 17:42:57\"\n        ],\n        \"semantic_type\": \"\",\n        \"description\": \"\"\n      }\n    },\n    {\n      \"column\": \"STATUS\",\n      \"properties\": {\n        \"dtype\": \"category\",\n        \"num_unique_values\": 10,\n        \"samples\": [\n          \"Cancelada\",\n          \"Autorizado\",\n          \"Aguardando Documenta\\u00e7\\u00e3o do Prestador\"\n        ],\n        \"semantic_type\": \"\",\n        \"description\": \"\"\n      }\n    },\n    {\n      \"column\": \"TGS_DATA_CANCELAMENTO\",\n      \"properties\": {\n        \"dtype\": \"date\",\n        \"min\": \"2020-06-02 16:04:50\",\n        \"max\": \"2024-03-06 10:21:54\",\n        \"num_unique_values\": 44,\n        \"samples\": [\n          \"2022-11-25 16:53:39\",\n          \"2022-11-23 11:45:01\",\n          \"2022-11-23 11:54:37\"\n        ],\n        \"semantic_type\": \"\",\n        \"description\": \"\"\n      }\n    },\n    {\n      \"column\": \"TIPO_GUIA\",\n      \"properties\": {\n        \"dtype\": \"category\",\n        \"num_unique_values\": 10,\n        \"samples\": [\n          \"Solicita\\u00e7\\u00e3o de Prorroga\\u00e7\\u00e3o\",\n          \"Faturamento SP/SADT\",\n          \"Solicitaca\\u00e7\\u00e3o de Interna\\u00e7\\u00e3o\"\n        ],\n        \"semantic_type\": \"\",\n        \"description\": \"\"\n      }\n    }\n  ]\n}"
            }
          },
          "metadata": {},
          "execution_count": 33
        }
      ]
    },
    {
      "cell_type": "code",
      "source": [
        "response = modelo.generate_content(f'{df}, dada essas informações, considerando o tipo da guia (TIPO_GUIA), há quantas guias de \"Solicitação SP/SADT\"?')\n",
        "\n",
        "print(response.text)"
      ],
      "metadata": {
        "colab": {
          "base_uri": "https://localhost:8080/",
          "height": 34
        },
        "id": "8bfydRXQsyvn",
        "outputId": "42a2f272-683a-43e0-94c3-e8542ec4cf94"
      },
      "execution_count": 37,
      "outputs": [
        {
          "output_type": "stream",
          "name": "stdout",
          "text": [
            "367\n"
          ]
        }
      ]
    },
    {
      "cell_type": "code",
      "source": [
        "def gerar_e_buscar_consulta(consulta, base, modelo):\n",
        "    resultado_consulta = genai.embed_content(model=\"models/embedding-001\",\n",
        "                                 content=consulta,\n",
        "                                 task_type=\"RETRIEVAL_QUERY\")\n",
        "\n",
        "    #produtos_escalares = np.dot(np.stack(df[\"embeddings\"]), embeddings_da_consulta[\"embedding\"])\n",
        "\n",
        "    #indice = np.argmax(produtos_escalares)\n",
        "    return [resultado_consulta]"
      ],
      "metadata": {
        "id": "NgQXS-fott6x"
      },
      "execution_count": 44,
      "outputs": []
    },
    {
      "cell_type": "code",
      "source": [
        "consulta = \"Informe a quantidade de guias de solicitação de SP/SADT\"\n",
        "\n",
        "resposta = gerar_e_buscar_consulta(consulta, df, modelo)\n",
        "\n",
        "print(resposta)"
      ],
      "metadata": {
        "colab": {
          "base_uri": "https://localhost:8080/",
          "height": 54
        },
        "id": "ZIboOh8R5R9k",
        "outputId": "67d60c06-f9cd-4718-f1ef-7b1a7835e514"
      },
      "execution_count": 45,
      "outputs": [
        {
          "output_type": "stream",
          "name": "stdout",
          "text": [
            "[{'embedding': [-0.021351064, -0.045297164, -0.0807509, -0.008271569, 0.08226806, -0.0004157302, 0.013902059, -0.07125409, 0.03576282, 0.07968104, 0.025289683, -0.019109644, -0.039427493, -0.016673272, -0.0045763445, -0.02689147, -0.020493766, -0.0030271318, -0.011982657, -0.027155386, 0.004136737, 0.047596585, -0.01901042, 0.009310005, -0.00067965244, -0.023681983, -0.009248729, -0.053934824, -0.027722187, 0.035891827, -0.052338615, 0.03218371, -0.053435493, 0.018168744, 0.0009159838, -0.04453855, 0.015771115, 0.03810764, -0.02879616, 0.033493247, 0.027494973, 0.02396882, 0.010838085, 0.0078230705, -0.007500075, -0.0033089493, 0.028314704, -0.0003393145, 0.010619205, -0.040835723, 0.00032103283, -0.00028141483, 0.09550287, 0.023857877, -0.0060027773, -0.06453616, 0.03902038, -0.0029246262, 0.0051320298, 0.029546518, 0.056064468, 0.014610022, -0.006913597, 0.034261074, -0.03185627, -0.048083007, 0.0015220117, -0.030470299, 0.05729053, -0.04147499, 0.01447766, -0.030922066, 0.0032363469, -0.024675023, -0.01342435, -0.055258058, -0.01988215, 0.039668247, 0.010808753, 0.016697599, -0.0068371366, -0.076538585, 0.008786374, -0.050870426, -0.04694971, 0.084796764, -0.027200522, -0.022489036, -0.015766032, 0.049570467, -0.048964035, 0.0065039997, 0.027315507, -0.06919351, -0.03571409, 0.07221344, -0.05744519, -0.030361807, -0.0015667895, -0.0013080225, 0.022192905, -0.036403097, -0.048198473, -0.037979264, 0.021478003, 0.03083954, -0.028919501, 0.027767926, -0.05096103, 0.09344529, -0.06410067, 0.009895366, 0.01931998, -0.028074235, 0.04757857, 0.0138421655, -0.008470367, 0.053646423, 0.0636193, 0.018756295, 0.04189647, 0.03903402, 0.04978114, 0.017012184, 0.031815276, -0.02509649, -0.006436367, 0.008200616, 0.08700367, 0.081033595, -0.04852304, -0.028045127, -0.04107746, 0.020756336, 0.015897142, 0.01779247, 0.068312176, -0.008789339, 0.012153007, 0.019900827, -0.011717914, 0.024691226, 0.006777954, 0.034544393, -0.0003894573, 0.0015337981, 0.011493836, 0.018457541, 0.014382854, 0.0046093636, -0.00047734182, -0.039220307, -0.027177935, 0.013374693, 0.038551163, -0.0016814324, -0.024515135, 0.00259722, 0.033386867, -0.016435077, 0.034933057, 0.059012752, -0.023530647, -0.011798595, -0.0035627792, 0.0053897738, 0.04474872, -0.015739258, -0.0070607015, -0.029164288, 0.024016786, -0.038647734, -0.042165846, -0.013963725, -0.009269746, -0.04816188, 0.03350153, -0.012876385, -0.04502791, -0.012662145, -0.037735447, -0.022575017, 0.005936561, -0.0028575505, 0.024564484, -0.0128532685, 0.048038743, -0.0133459065, -0.0030006617, -0.016635269, 0.0044082208, -0.032270603, -0.037880972, 0.03268468, -0.03077555, 0.039737858, -0.0038944436, 0.036163438, -0.04262315, -0.0067363405, -0.01434633, 0.1045461, 0.018940171, -0.025762886, 0.012501772, -0.010782923, 0.0034962217, -0.011458422, 0.0005270263, 0.042937845, -0.07520935, 0.030472139, -0.04238769, -0.015386642, 0.06396601, 0.024263974, 0.044387996, 0.037034515, -0.021525607, -0.02195834, -0.059924625, -0.01802807, -0.010520057, 0.015350785, -0.016051337, 0.02786243, 0.015671033, 0.062796324, 0.0048620375, -0.035610966, -0.000575984, 0.09183786, 0.062632196, -0.021510758, 0.041507836, -0.023320997, -0.0016814703, -0.0033085565, -0.023588816, 0.021506662, -0.045038965, -0.011962135, 0.010684687, 0.04992678, -0.06742799, -0.03329337, -0.010319033, 0.027735751, -0.017131727, 0.023169646, -0.021439046, -0.06109759, -0.019878957, 0.0055488613, -0.056585737, 0.029604482, -0.055972278, -0.0274694, 0.042120073, 0.016550934, 0.0354607, -0.016760858, -0.0030130064, 0.02703626, 0.010591917, -0.013414648, -0.0026399246, -0.073224224, 0.02457287, 0.010837223, 0.021348603, -0.023343837, 0.060438965, 0.023414418, 0.028895142, 0.01844298, -0.0035631924, 0.037248302, 0.025023537, -0.0559169, -0.03916364, 0.054265536, 0.032839637, -0.04210274, -0.03658797, -0.040798143, -0.015580287, -0.031708088, 0.020270662, -0.049706873, -0.06069521, 0.020381648, -0.026191305, -0.023690723, -0.0028797195, -0.0019080444, -0.014078236, 0.046106882, 0.03953676, 0.010981682, -0.033017017, -0.04639604, -0.00786605, -0.041393798, 0.024719132, -0.005616082, -0.0055665197, -0.051472902, 0.01990407, -0.020665271, 0.019471508, -0.012123397, -0.022440676, -0.012625509, 0.013649552, 0.056163926, -0.019731643, 0.012352047, 0.0042076395, 0.076935425, -0.01729733, 0.10061683, 0.014654508, 0.012386571, 0.012582112, 0.013900861, -0.0134159615, -0.011325857, 0.010055002, 0.0057388735, -0.04821842, -0.006966314, -0.002473498, 0.07872645, 0.0024162526, 0.025255276, -0.067419805, -0.018034486, -0.033238046, -0.00077007833, 0.02834181, 0.016130472, -0.04738401, -0.060671736, 0.010872298, -0.0025719549, -0.038738385, 0.017373795, 0.039420456, -0.0023392977, 0.0195636, 0.106572025, -0.006001907, -0.035805844, 0.008073107, -0.050703384, 0.038252544, -0.055340644, 0.055919506, -0.021530487, -0.06942973, -0.001771089, -0.010226287, 0.005476257, 0.015017385, -0.028711386, 0.041812487, -0.02085709, -0.040891457, 0.03285154, -0.022191359, -0.030428026, 0.017077904, 0.042344067, -0.02314245, -0.006509629, 0.018850127, -0.034479827, 0.029668856, 0.03142128, -0.0028054204, -0.038444914, 0.011974726, 0.024957886, -0.037113354, -0.017351449, 0.053718526, 0.029980889, -0.0025563724, 0.07323277, -0.015330904, -0.010593257, 0.08647368, 0.02680961, -0.008606177, 0.011970559, -0.030553605, 0.01497269, 0.0023049752, 0.04399727, -0.022633377, -0.044959117, -0.03821222, -0.04935075, -0.029487748, -0.065706305, -0.016523795, -0.08245831, -0.06764814, -0.050486136, 0.044065338, 0.038634226, 0.032065056, -0.062402073, -0.042219512, -0.0010884114, 0.01857134, 0.0037357465, -0.003789707, 0.017294189, 0.02870024, -0.007593971, 0.0061959513, -0.02271704, -0.058759198, -0.08863924, 0.015698727, -0.026096912, 0.023410464, 0.042251486, 0.046951484, -0.03463403, 0.0052747, -0.018683877, 0.013597421, -0.07379633, 0.00743714, 0.020909514, -0.04934049, -0.012168935, 0.015510442, 0.0019548556, 0.042517792, 0.056729317, -0.03542202, -0.014874694, -0.0062130257, -0.0047767274, 0.05029783, -0.03490892, 0.010878746, -0.045747172, 0.00447789, 8.052368e-05, -0.06953081, -0.041316543, -0.0032943885, 0.044881735, -0.020024981, 0.036943033, -0.015839623, -0.030502917, -0.050740864, -0.053615928, -0.005077244, -0.0072310516, 0.05751696, -0.015979053, 0.11675182, 0.05026487, 0.018454622, -0.05163649, 0.03345959, -0.023845619, 0.0148728695, -0.03054821, -0.048607018, 0.031659864, -0.04618027, -0.05338241, -0.017943721, -0.050512128, 0.048223313, 0.012139107, 0.010103841, -0.012600139, -0.022878874, -0.011181224, 0.03062615, 0.02091181, -0.03770326, -0.00015902735, 0.0025777416, -0.0739123, -0.013497489, 0.021449527, -0.074654646, -0.016245794, 0.0037770262, 0.016526127, -0.015504807, -0.020019505, 0.0036766368, -0.013777708, 0.052908406, -0.001014392, 0.022234932, 0.049413927, -0.021343255, 0.039584413, 0.053847104, -0.0008957456, -0.005184819, -0.030779207, 0.032558426, -0.026077611, -0.01827768, -0.012092417, 0.0203475, -0.055804245, 0.024700735, 0.010421016, -0.104828164, -0.012278665, 0.053648554, -0.04397067, 0.035352528, -0.0061360896, -0.03702002, 0.021260103, 0.023166576, 0.07766578, -0.06114801, 0.002815693, -0.0016565842, -0.002578603, 0.018344332, 0.058921646, 0.046702344, -0.004395219, 0.010977013, 0.015467146, -0.0078099123, 0.02732067, -0.023712525, -0.026720421, 0.008052144, -0.05813303, 0.015172175, -0.032900535, -0.016669476, 0.0057244604, 0.035717122, -0.057866268, 0.044623807, -0.032819595, 0.0025263678, 0.004093631, 0.0005620466, -0.014402739, -0.0046370975, -0.017113555, -0.041813783, 0.0036677853, 0.026026353, 0.048498366, -0.014900648, -0.009419215, 0.047052708, 0.0018089868, 0.004581323, 0.030766562, 0.031973682, 0.0213584, -0.0073531065, -0.011112668, -0.03084535, -0.0076577826, -0.010793158, -0.06041091, 0.00955962, -0.0056595122, 0.0050802557, 0.040118337, 0.012961498, 0.032631397, 0.030607058, 0.008287068, 0.029816302, -0.018733507, -0.059781864, 0.063201234, -0.0361189, 0.024612373, 0.0069594095, 0.011097585, -0.036906656, 0.010563661, -0.0021720359, 0.007151766, 0.037036452, -0.018825054, 0.07158552, 0.008124044, -0.006757087, 0.007282879, 0.014014624, -0.013873244, -0.00542245, -0.020187821, -0.045616362, 0.03965581, 0.020097133, -0.04120761, -0.03278108, -0.022422964, 0.04565106, -0.011721364, -0.026974386, -0.023704318, 0.029336102, 0.005386261, -0.019242613, 0.0027469825, 0.038238622, 0.033752088, -0.02626193, -0.013021424, 0.07095812, 0.0031991547, 0.0106292935, 0.04716945, 0.0026066094, 0.007848636, -0.032713607, 0.015660467, -0.04225336, 0.007460065, -0.01532481, -0.023817485, -0.1015635, 0.016166408, 0.038442127, -0.056142308, -0.04634759, 0.096519284, -0.005846681, -0.05768524, -0.060968906, -0.020756986, -0.021398183, -0.0141496025, 0.016101368, 0.011672631, 0.029103627, -0.041337673, -0.009555114, -0.018889157, 0.0641292, 0.014054629, -0.0756445, -0.025532829, 0.020986913, 0.010792465, -0.0058034686, -0.007412434, -0.09200237, -0.053298924, 0.009676759, 0.051903438, -0.043415353, 0.047546312, 0.06332865, -0.04802314, 0.015967371, 0.00791213, 0.007954028, -0.0012053895, 0.029397998, 0.016312957, -0.01823047, -0.055438727, -7.1331335e-05, 0.026879676, -0.03434269, 0.034974255, 0.01819905, 0.01995345, -0.030829322, -0.04250443, -0.0076530483, -0.03426317, -0.03437473, 0.047613952, 0.0114048505, 0.03063752, -0.002491209, 0.008423773, -0.015113516, 0.031074602, -0.036445044, -0.031106107, -0.008549155, -0.0124739595, -0.0062305327, 0.019929752, 0.0012940671, -0.015176223, 0.025953699, 0.0006213467, 0.031092135, -0.040645227, -0.115525335, 0.022969296, 0.013650615, -0.025973106, -0.0016237112, 0.030769521, -0.043701176, 0.07490471, 0.026975943, -0.022870934, 0.015088287, -0.06427056, -0.044646066, 0.007167739, -0.0063475342, 0.08232381, -0.030577704, 0.04129505, 0.080164164, 0.009691635, -0.037776604, -0.00424738, -0.043019194, 0.06526241, -0.008282812, 0.090416275, -0.030028613, -0.09821852, -0.07280295, -0.034826655, 0.020334376, 0.04804002, 0.04290819, -0.023468934, -0.0068323105, -0.033389356, -0.019646663, -0.06738863, -0.07287223, 0.045769252, 0.0037173931, 0.011571317, 0.0702494, -0.0334613, 0.01141833, -0.014850834, 0.016486812, 0.025911752, -0.06554259, -0.03721219, 0.00075052766, 0.029636843, 0.022997644, 0.0151161775, -0.011972599, -0.0084610125]}]\n"
          ]
        }
      ]
    }
  ]
}